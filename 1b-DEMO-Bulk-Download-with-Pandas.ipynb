{
 "cells": [
  {
   "cell_type": "markdown",
   "metadata": {},
   "source": [
    "## 1a. A demo of using pandas to bulk download files...\n",
    "Building off the method we just looked at of using Pandas to grab a single file, we see here how Python can be quite effective at downloading industrial water data for **all** US states. \n",
    "\n",
    "Compare running this script with doing the downloads by hand..."
   ]
  },
  {
   "cell_type": "code",
   "execution_count": 1,
   "metadata": {},
   "outputs": [
    {
     "name": "stdout",
     "output_type": "stream",
     "text": [
      "Collecting us\n",
      "  Downloading us-2.0.2.tar.gz (14 kB)\n",
      "  Preparing metadata (setup.py): started\n",
      "  Preparing metadata (setup.py): finished with status 'done'\n",
      "Collecting jellyfish==0.6.1\n",
      "  Downloading jellyfish-0.6.1.tar.gz (132 kB)\n",
      "     -------------------------------------- 132.6/132.6 kB 3.9 MB/s eta 0:00:00\n",
      "  Preparing metadata (setup.py): started\n",
      "  Preparing metadata (setup.py): finished with status 'done'\n",
      "Building wheels for collected packages: us, jellyfish\n",
      "  Building wheel for us (setup.py): started\n",
      "  Building wheel for us (setup.py): finished with status 'done'\n",
      "  Created wheel for us: filename=us-2.0.2-py3-none-any.whl size=11988 sha256=723ea43fb9109c01bdeed22544ac836134d778dd00801fd295fccf3f71fd3a8a\n",
      "  Stored in directory: c:\\users\\lmm122\\appdata\\local\\pip\\cache\\wheels\\7f\\b7\\62\\eba50f57431f6fbf5f76aac46d04e543e5df3e0ee3e7c59e4c\n",
      "  Building wheel for jellyfish (setup.py): started\n",
      "  Building wheel for jellyfish (setup.py): finished with status 'done'\n",
      "  Created wheel for jellyfish: filename=jellyfish-0.6.1-py3-none-any.whl size=10389 sha256=016851fd3a0f78b9e92e9b61ed96e745a30f37a96491a274b46ff1f59bf260e2\n",
      "  Stored in directory: c:\\users\\lmm122\\appdata\\local\\pip\\cache\\wheels\\4d\\59\\9e\\5e81a8eb902fa42d12285e4befd793acaa011f4eb9daf4e623\n",
      "Successfully built us jellyfish\n",
      "Installing collected packages: jellyfish, us\n",
      "Successfully installed jellyfish-0.6.1 us-2.0.2\n",
      "installing the US package\n"
     ]
    }
   ],
   "source": [
    "#import os & pandas\n",
    "import os\n",
    "import pandas as pd\n",
    "\n",
    "#import the us package (install if necessary)\n",
    "try:\n",
    "    import us\n",
    "except:\n",
    "    !pip install us\n",
    "    print('installing the US package')\n",
    "    import us"
   ]
  },
  {
   "cell_type": "code",
   "execution_count": 2,
   "metadata": {},
   "outputs": [],
   "source": [
    "#Create a folder to hold all the downloads\n",
    "outFolder = \"WaterData\"\n",
    "if not os.path.exists(outFolder): os.mkdir(outFolder)"
   ]
  },
  {
   "cell_type": "code",
   "execution_count": 3,
   "metadata": {},
   "outputs": [
    {
     "name": "stdout",
     "output_type": "stream",
     "text": [
      "al>ak>az>ar>ca>co>ct>de>fl>ga>hi>id>il>in>ia>ks>ky>la>me>md>ma>mi>mn>ms>mo>mt>ne>nv>nh>nj>nm>ny>nc>nd>oh>ok>or>pa>ri>sc>sd>tn>tx>ut>vt>va>wa>wv>wi>wy>"
     ]
    }
   ],
   "source": [
    "#Loop through each state, download it's data, and save to a local file\n",
    "for state in us.STATES:\n",
    "    stateAbbr = state.abbr.lower()\n",
    "    print(\"{}\".format(stateAbbr),end='>')\n",
    "    \n",
    "    #Update the url with the state code\n",
    "    theURL = 'https://waterdata.usgs.gov/{}/nwis/water_use?format=rdb&rdb_compression=value&wu_area=County&wu_year=ALL&wu_county=ALL&wu_category=IN&wu_county_nms=--ALL%2BCounties--&wu_category_nms=Industrial'\n",
    "    theURL = theURL.format(stateAbbr)\n",
    "    \n",
    "    #Get the data as a dataframe\n",
    "    dfState = pd.read_csv(theURL,delimiter='\\t',skiprows=list(range(49))+[50])\n",
    "    \n",
    "    #write df to csv in the WaterData folder\n",
    "    dfState.to_csv(\"WaterData/{}.csv\".format(stateAbbr),index=False)"
   ]
  },
  {
   "cell_type": "code",
   "execution_count": null,
   "metadata": {},
   "outputs": [],
   "source": []
  }
 ],
 "metadata": {
  "kernelspec": {
   "display_name": "Python 3 (ipykernel)",
   "language": "python",
   "name": "python3"
  },
  "language_info": {
   "codemirror_mode": {
    "name": "ipython",
    "version": 3
   },
   "file_extension": ".py",
   "mimetype": "text/x-python",
   "name": "python",
   "nbconvert_exporter": "python",
   "pygments_lexer": "ipython3",
   "version": "3.10.6"
  }
 },
 "nbformat": 4,
 "nbformat_minor": 2
}
